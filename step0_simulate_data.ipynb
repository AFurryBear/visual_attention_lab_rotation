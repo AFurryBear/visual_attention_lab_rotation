{
 "cells": [
  {
   "cell_type": "code",
   "execution_count": 1,
   "id": "5ae3abaa",
   "metadata": {},
   "outputs": [],
   "source": [
    "import numpy as np"
   ]
  },
  {
   "cell_type": "code",
   "execution_count": 3,
   "id": "303d54a3",
   "metadata": {},
   "outputs": [],
   "source": [
    "import matplotlib.pyplot as plt\n",
    "%matplotlib inline\n",
    "import seaborn as sns # comment this line if you don't want to use seaborn for plots\n",
    "\n",
    "import numpy as np\n",
    "from scipy import stats\n",
    "\n",
    "# add the path to the abcTau package\n",
    "import sys\n",
    "sys.path.append('./abcTau/abcTau/')\n",
    "import abcTau"
   ]
  },
  {
   "cell_type": "code",
   "execution_count": null,
   "id": "258fc524",
   "metadata": {},
   "outputs": [],
   "source": [
    "# creating model object\n",
    "class MyModel(abcTau.Model):\n",
    "\n",
    "    #This method initializes the model object.  \n",
    "    def __init__(self):\n",
    "        pass\n",
    "\n",
    "    # draw samples from the prior. \n",
    "    def draw_theta(self):\n",
    "        theta = []\n",
    "        for p in self.prior:\n",
    "            theta.append(p.rvs())\n",
    "        return theta\n",
    "\n",
    "    # Choose the generative model (from generative_models)\n",
    "    # Choose autocorrelation computation method (from basic_functions)\n",
    "    def generate_data(self, theta):\n",
    "        # generate synthetic data\n",
    "        if disp == None:\n",
    "            syn_data, numBinData =  eval('abcTau.generative_models.' + generativeModel + \\\n",
    "                                         '(theta, deltaT, binSize, T, numTrials, data_mean, data_var)')\n",
    "        else:\n",
    "            syn_data, numBinData =  eval('abcTau.generative_models.' + generativeModel + \\\n",
    "                                         '(theta, deltaT, binSize, T, numTrials, data_mean, data_var, disp)')\n",
    "               \n",
    "        # compute the summary statistics\n",
    "        syn_sumStat = abcTau.summary_stats.comp_sumStat(syn_data, summStat_metric, ifNorm, deltaT, binSize, T,\\\n",
    "                                          numBinData, maxTimeLag)   \n",
    "        return syn_sumStat\n",
    "\n",
    "    # Computes the summary statistics\n",
    "    def summary_stats(self, data):\n",
    "        sum_stat = data\n",
    "        return sum_stat\n",
    "\n",
    "    # Choose the method for computing distance (from basic_functions)\n",
    "    def distance_function(self, data, synth_data):\n",
    "        if np.nansum(synth_data) <= 0: # in case of all nans return large d to reject the sample\n",
    "            d = 10**4\n",
    "        else:\n",
    "            d = eval('abcTau.distance_functions.' +distFunc + '(data, synth_data)')        \n",
    "        return d"
   ]
  },
  {
   "cell_type": "code",
   "execution_count": 4,
   "id": "d84d3cef",
   "metadata": {},
   "outputs": [
    {
     "name": "stdout",
     "output_type": "stream",
     "text": [
      "Help on function oneTauOU_oscil in module abcTau.generative_models:\n",
      "\n",
      "oneTauOU_oscil(theta, deltaT, binSize, T, numTrials, data_mean, data_var)\n",
      "    Generate a one-timescale OU process with an additive oscillation.\n",
      "    \n",
      "    Parameters\n",
      "    -----------\n",
      "    theta : 1d array\n",
      "        [timescale of OU, frequency of oscillation, coefficient for OU].\n",
      "    deltaT : float\n",
      "        temporal resolution for the OU process generation.\n",
      "    binSize : float\n",
      "        bin-size for binning data and computing the autocorrelation.\n",
      "    T : float\n",
      "        duration of trials.\n",
      "    numTrials : float\n",
      "        number of trials.\n",
      "    data_mean : float\n",
      "        mean value of the OU process (average of firing rate). \n",
      "    data_var : float\n",
      "        variance of the OU process (variance of firing rate). \n",
      "    \n",
      "    Returns\n",
      "    -------\n",
      "    syn_data : nd array\n",
      "        array of binned spike-counts (numTrials * int(T/binSize)).\n",
      "    numBinData : int\n",
      "        number of bins/samples per trial (required for computing autocorrelation).\n",
      "\n"
     ]
    }
   ],
   "source": [
    "help(abcTau.generative_models.oneTauOU_oscil)"
   ]
  },
  {
   "cell_type": "code",
   "execution_count": 5,
   "id": "0e28826e",
   "metadata": {},
   "outputs": [],
   "source": [
    "t_min = 0.0 # first timescale\n",
    "t_max = 1000.0\n",
    "priorDist = [stats.uniform(loc= t_min, scale = t_max - t_min)]\n",
    "theta = [p.rvs() for p in priorDist]"
   ]
  },
  {
   "cell_type": "code",
   "execution_count": 7,
   "id": "067f6be8",
   "metadata": {},
   "outputs": [
    {
     "data": {
      "text/plain": [
       "[<scipy.stats._distn_infrastructure.rv_frozen at 0x7f7f62551f70>]"
      ]
     },
     "execution_count": 7,
     "metadata": {},
     "output_type": "execute_result"
    }
   ],
   "source": [
    "priorDist"
   ]
  },
  {
   "cell_type": "code",
   "execution_count": 9,
   "id": "1f1aba26",
   "metadata": {},
   "outputs": [],
   "source": [
    "# t_min = 0.0 # first timescale\n",
    "# t_max = 1000.0\n",
    "# priorDist = [stats.uniform(loc= t_min, scale = t_max - t_min)]\n",
    "theta = [1024,100,.3]\n",
    "deltaT = 1\n",
    "binSize = 1\n",
    "binSize = 1\n",
    "T = 1000\n",
    "numTrials = 200\n",
    "data_mean = 1\n",
    "data_var = 1\n",
    "\n",
    "syn_data, numBinData = abcTau.generative_models.oneTauOU_oscil(theta, deltaT, binSize, T, numTrials, data_mean, data_var)\n",
    "\n"
   ]
  },
  {
   "cell_type": "code",
   "execution_count": 10,
   "id": "2a3966a2",
   "metadata": {},
   "outputs": [
    {
     "data": {
      "text/plain": [
       "array([[ 2.71350484,  2.41076661,  1.76904169, ...,  1.75737988,\n",
       "         2.50745375,  3.02802347],\n",
       "       [ 0.4713382 ,  1.09950464,  1.79065153, ...,  0.87223557,\n",
       "         0.31055206,  0.10897576],\n",
       "       [-0.0982177 ,  0.06864005,  0.60076499, ...,  0.87667385,\n",
       "         0.19049652, -0.48205669],\n",
       "       ...,\n",
       "       [ 0.31692001, -0.16900197, -0.2825016 , ...,  1.60921645,\n",
       "         1.22288897,  0.56095738],\n",
       "       [ 1.04944832,  1.80011968,  2.44195472, ...,  0.11364626,\n",
       "        -0.18978738, -0.02243512],\n",
       "       [-0.59990488, -0.60151028, -0.18410599, ...,  1.24799698,\n",
       "         0.57819478, -0.0961305 ]])"
      ]
     },
     "execution_count": 10,
     "metadata": {},
     "output_type": "execute_result"
    }
   ],
   "source": [
    "syn_data"
   ]
  }
 ],
 "metadata": {
  "kernelspec": {
   "display_name": "Python 3",
   "language": "python",
   "name": "python3"
  },
  "language_info": {
   "codemirror_mode": {
    "name": "ipython",
    "version": 3
   },
   "file_extension": ".py",
   "mimetype": "text/x-python",
   "name": "python",
   "nbconvert_exporter": "python",
   "pygments_lexer": "ipython3",
   "version": "3.8.12"
  }
 },
 "nbformat": 4,
 "nbformat_minor": 5
}
